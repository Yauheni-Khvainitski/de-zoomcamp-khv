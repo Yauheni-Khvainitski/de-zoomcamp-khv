{
 "cells": [
  {
   "cell_type": "code",
   "execution_count": 16,
   "id": "fc4e68bc",
   "metadata": {},
   "outputs": [],
   "source": [
    "import pyspark\n",
    "from pyspark.sql import SparkSession\n",
    "from pyspark.sql import types\n",
    "from pyspark.sql import functions as F\n",
    "\n",
    "spark = SparkSession.builder \\\n",
    "    .master(\"local[*]\") \\\n",
    "    .appName('hw_5') \\\n",
    "    .getOrCreate()"
   ]
  },
  {
   "cell_type": "code",
   "execution_count": 17,
   "id": "3612aecb",
   "metadata": {},
   "outputs": [
    {
     "data": {
      "text/plain": [
       "'3.0.3'"
      ]
     },
     "execution_count": 17,
     "metadata": {},
     "output_type": "execute_result"
    }
   ],
   "source": [
    "spark.version"
   ]
  },
  {
   "cell_type": "code",
   "execution_count": 5,
   "id": "e4696fff",
   "metadata": {},
   "outputs": [
    {
     "name": "stdout",
     "output_type": "stream",
     "text": [
      "--2022-02-27 17:33:57--  https://nyc-tlc.s3.amazonaws.com/trip+data/fhvhv_tripdata_2021-02.csv\n",
      "Resolving nyc-tlc.s3.amazonaws.com (nyc-tlc.s3.amazonaws.com)... 52.217.160.113\n",
      "Connecting to nyc-tlc.s3.amazonaws.com (nyc-tlc.s3.amazonaws.com)|52.217.160.113|:443... connected.\n",
      "HTTP request sent, awaiting response... 200 OK\n",
      "Length: 733822658 (700M) [text/csv]\n",
      "Saving to: ‘fhvhv_tripdata_2021-02.csv’\n",
      "\n",
      "fhvhv_tripdata_2021 100%[===================>] 699.83M  33.5MB/s    in 23s     \n",
      "\n",
      "2022-02-27 17:34:21 (30.5 MB/s) - ‘fhvhv_tripdata_2021-02.csv’ saved [733822658/733822658]\n",
      "\n"
     ]
    }
   ],
   "source": [
    "!wget https://nyc-tlc.s3.amazonaws.com/trip+data/fhvhv_tripdata_2021-02.csv"
   ]
  },
  {
   "cell_type": "code",
   "execution_count": 18,
   "id": "7fa8e603",
   "metadata": {},
   "outputs": [],
   "source": [
    "schema = types.StructType([\n",
    "    types.StructField('hvfhs_license_num', types.StringType(), True),\n",
    "    types.StructField('dispatching_base_num', types.StringType(), True),\n",
    "    types.StructField('pickup_datetime', types.TimestampType(), True),\n",
    "    types.StructField('dropoff_datetime', types.TimestampType(), True),\n",
    "    types.StructField('PULocationID', types.IntegerType(), True),\n",
    "    types.StructField('DOLocationID', types.IntegerType(), True),\n",
    "    types.StructField('SR_Flag', types.StringType(), True)])"
   ]
  },
  {
   "cell_type": "code",
   "execution_count": 25,
   "id": "78726fba",
   "metadata": {},
   "outputs": [],
   "source": [
    "df = spark.read \\\n",
    "    .option(\"header\", \"true\") \\\n",
    "    .schema(schema) \\\n",
    "    .csv('fhvhv_tripdata_2021-02.csv')"
   ]
  },
  {
   "cell_type": "code",
   "execution_count": 26,
   "id": "cd3bec2b",
   "metadata": {},
   "outputs": [
    {
     "name": "stderr",
     "output_type": "stream",
     "text": [
      "                                                                                \r"
     ]
    }
   ],
   "source": [
    "df.repartition(24).write.parquet('data/pq/fhvhv', mode='overwrite')"
   ]
  },
  {
   "cell_type": "code",
   "execution_count": 27,
   "id": "f6e3367e",
   "metadata": {},
   "outputs": [
    {
     "name": "stdout",
     "output_type": "stream",
     "text": [
      "total 208M\r\n",
      "-rw-r--r-- 1 khv khv    0 Feb 27 18:12 _SUCCESS\r\n",
      "-rw-r--r-- 1 khv khv 8.7M Feb 27 18:12 part-00000-be245855-98ba-4519-a032-b2a774918482-c000.snappy.parquet\r\n",
      "-rw-r--r-- 1 khv khv 8.7M Feb 27 18:12 part-00001-be245855-98ba-4519-a032-b2a774918482-c000.snappy.parquet\r\n",
      "-rw-r--r-- 1 khv khv 8.7M Feb 27 18:12 part-00002-be245855-98ba-4519-a032-b2a774918482-c000.snappy.parquet\r\n",
      "-rw-r--r-- 1 khv khv 8.7M Feb 27 18:12 part-00003-be245855-98ba-4519-a032-b2a774918482-c000.snappy.parquet\r\n",
      "-rw-r--r-- 1 khv khv 8.7M Feb 27 18:12 part-00004-be245855-98ba-4519-a032-b2a774918482-c000.snappy.parquet\r\n",
      "-rw-r--r-- 1 khv khv 8.7M Feb 27 18:12 part-00005-be245855-98ba-4519-a032-b2a774918482-c000.snappy.parquet\r\n",
      "-rw-r--r-- 1 khv khv 8.7M Feb 27 18:12 part-00006-be245855-98ba-4519-a032-b2a774918482-c000.snappy.parquet\r\n",
      "-rw-r--r-- 1 khv khv 8.7M Feb 27 18:12 part-00007-be245855-98ba-4519-a032-b2a774918482-c000.snappy.parquet\r\n",
      "-rw-r--r-- 1 khv khv 8.7M Feb 27 18:12 part-00008-be245855-98ba-4519-a032-b2a774918482-c000.snappy.parquet\r\n",
      "-rw-r--r-- 1 khv khv 8.7M Feb 27 18:12 part-00009-be245855-98ba-4519-a032-b2a774918482-c000.snappy.parquet\r\n",
      "-rw-r--r-- 1 khv khv 8.7M Feb 27 18:12 part-00010-be245855-98ba-4519-a032-b2a774918482-c000.snappy.parquet\r\n",
      "-rw-r--r-- 1 khv khv 8.7M Feb 27 18:12 part-00011-be245855-98ba-4519-a032-b2a774918482-c000.snappy.parquet\r\n",
      "-rw-r--r-- 1 khv khv 8.7M Feb 27 18:12 part-00012-be245855-98ba-4519-a032-b2a774918482-c000.snappy.parquet\r\n",
      "-rw-r--r-- 1 khv khv 8.7M Feb 27 18:12 part-00013-be245855-98ba-4519-a032-b2a774918482-c000.snappy.parquet\r\n",
      "-rw-r--r-- 1 khv khv 8.7M Feb 27 18:12 part-00014-be245855-98ba-4519-a032-b2a774918482-c000.snappy.parquet\r\n",
      "-rw-r--r-- 1 khv khv 8.7M Feb 27 18:12 part-00015-be245855-98ba-4519-a032-b2a774918482-c000.snappy.parquet\r\n",
      "-rw-r--r-- 1 khv khv 8.7M Feb 27 18:12 part-00016-be245855-98ba-4519-a032-b2a774918482-c000.snappy.parquet\r\n",
      "-rw-r--r-- 1 khv khv 8.7M Feb 27 18:12 part-00017-be245855-98ba-4519-a032-b2a774918482-c000.snappy.parquet\r\n",
      "-rw-r--r-- 1 khv khv 8.7M Feb 27 18:12 part-00018-be245855-98ba-4519-a032-b2a774918482-c000.snappy.parquet\r\n",
      "-rw-r--r-- 1 khv khv 8.7M Feb 27 18:12 part-00019-be245855-98ba-4519-a032-b2a774918482-c000.snappy.parquet\r\n",
      "-rw-r--r-- 1 khv khv 8.7M Feb 27 18:12 part-00020-be245855-98ba-4519-a032-b2a774918482-c000.snappy.parquet\r\n",
      "-rw-r--r-- 1 khv khv 8.7M Feb 27 18:12 part-00021-be245855-98ba-4519-a032-b2a774918482-c000.snappy.parquet\r\n",
      "-rw-r--r-- 1 khv khv 8.7M Feb 27 18:12 part-00022-be245855-98ba-4519-a032-b2a774918482-c000.snappy.parquet\r\n",
      "-rw-r--r-- 1 khv khv 8.7M Feb 27 18:12 part-00023-be245855-98ba-4519-a032-b2a774918482-c000.snappy.parquet\r\n"
     ]
    }
   ],
   "source": [
    "!ls -lh /home/khv/code/data/pq/fhvhv"
   ]
  },
  {
   "cell_type": "code",
   "execution_count": 28,
   "id": "ee8a083c",
   "metadata": {},
   "outputs": [],
   "source": [
    "df = spark.read.parquet('data/pq/fhvhv')"
   ]
  },
  {
   "cell_type": "code",
   "execution_count": 29,
   "id": "7f77a2ad",
   "metadata": {},
   "outputs": [],
   "source": [
    "df.registerTempTable('data')"
   ]
  },
  {
   "cell_type": "code",
   "execution_count": 31,
   "id": "83d1f74c",
   "metadata": {},
   "outputs": [
    {
     "name": "stderr",
     "output_type": "stream",
     "text": [
      "[Stage 8:=======================================>                   (2 + 1) / 3]\r"
     ]
    },
    {
     "name": "stdout",
     "output_type": "stream",
     "text": [
      "+------+\n",
      "|   cnt|\n",
      "+------+\n",
      "|367170|\n",
      "+------+\n",
      "\n"
     ]
    },
    {
     "name": "stderr",
     "output_type": "stream",
     "text": [
      "\r",
      "                                                                                \r"
     ]
    }
   ],
   "source": [
    "#Q3\n",
    "spark.sql(\"\"\"\n",
    "SELECT COUNT(*) AS cnt\n",
    "  FROM data\n",
    " WHERE pickup_datetime >= '2021-02-15 00:00:00'\n",
    "   AND pickup_datetime < '2021-02-16 00:00:00';\n",
    "\"\"\").show()"
   ]
  },
  {
   "cell_type": "code",
   "execution_count": 40,
   "id": "115943e1",
   "metadata": {},
   "outputs": [],
   "source": [
    "df = df.withColumn(\"trip_duration_ms\", \\\n",
    "                   (F.col(\"dropoff_datetime\").cast(\"long\") - F.col(\"pickup_datetime\").cast(\"long\")))"
   ]
  },
  {
   "cell_type": "code",
   "execution_count": 45,
   "id": "f326241c",
   "metadata": {},
   "outputs": [
    {
     "name": "stderr",
     "output_type": "stream",
     "text": [
      "[Stage 13:======================================>                   (2 + 1) / 3]\r"
     ]
    },
    {
     "name": "stdout",
     "output_type": "stream",
     "text": [
      "+---------------+----------------+\n",
      "|pickup_datetime|trip_duration_ms|\n",
      "+---------------+----------------+\n",
      "|     2021-02-11|           75540|\n",
      "|     2021-02-17|           57221|\n",
      "|     2021-02-20|           44039|\n",
      "|     2021-02-03|           40653|\n",
      "|     2021-02-19|           37577|\n",
      "|     2021-02-25|           35010|\n",
      "|     2021-02-20|           34806|\n",
      "|     2021-02-18|           34612|\n",
      "|     2021-02-18|           34555|\n",
      "|     2021-02-10|           34169|\n",
      "|     2021-02-10|           32476|\n",
      "|     2021-02-25|           32439|\n",
      "|     2021-02-21|           32223|\n",
      "|     2021-02-09|           32087|\n",
      "|     2021-02-06|           31447|\n",
      "|     2021-02-02|           30913|\n",
      "|     2021-02-10|           30856|\n",
      "|     2021-02-09|           30732|\n",
      "|     2021-02-21|           30660|\n",
      "|     2021-02-05|           30511|\n",
      "+---------------+----------------+\n",
      "only showing top 20 rows\n",
      "\n"
     ]
    },
    {
     "name": "stderr",
     "output_type": "stream",
     "text": [
      "\r",
      "                                                                                \r"
     ]
    }
   ],
   "source": [
    "#Q4\n",
    "df.select( \\\n",
    "          F.col('pickup_datetime').cast('date'), \\\n",
    "          'trip_duration_ms'\n",
    "         ).orderBy(df.trip_duration_ms.desc()).show()"
   ]
  },
  {
   "cell_type": "code",
   "execution_count": 46,
   "id": "eeffe2e7",
   "metadata": {},
   "outputs": [
    {
     "name": "stderr",
     "output_type": "stream",
     "text": [
      "[Stage 15:==================================================>   (186 + 3) / 200]\r"
     ]
    },
    {
     "name": "stdout",
     "output_type": "stream",
     "text": [
      "+--------------------+-------+\n",
      "|dispatching_base_num|    cnt|\n",
      "+--------------------+-------+\n",
      "|              B02510|3233664|\n",
      "|              B02764| 965568|\n",
      "|              B02872| 882689|\n",
      "|              B02875| 685390|\n",
      "|              B02765| 559768|\n",
      "|              B02869| 429720|\n",
      "|              B02887| 322331|\n",
      "|              B02871| 312364|\n",
      "|              B02864| 311603|\n",
      "|              B02866| 311089|\n",
      "|              B02878| 305185|\n",
      "|              B02682| 303255|\n",
      "|              B02617| 274510|\n",
      "|              B02883| 251617|\n",
      "|              B02884| 244963|\n",
      "|              B02882| 232173|\n",
      "|              B02876| 215693|\n",
      "|              B02879| 210137|\n",
      "|              B02867| 200530|\n",
      "|              B02877| 198938|\n",
      "+--------------------+-------+\n",
      "only showing top 20 rows\n",
      "\n"
     ]
    },
    {
     "name": "stderr",
     "output_type": "stream",
     "text": [
      "\r",
      "                                                                                \r"
     ]
    }
   ],
   "source": [
    "#Q5\n",
    "spark.sql(\"\"\"\n",
    "SELECT \n",
    "    dispatching_base_num\n",
    "    , COUNT(*) AS cnt\n",
    "  FROM data\n",
    " GROUP BY \n",
    "     dispatching_base_num\n",
    " ORDER BY \n",
    "     COUNT(*) DESC;\n",
    "\"\"\").show()"
   ]
  },
  {
   "cell_type": "code",
   "execution_count": 53,
   "id": "23b4bee1",
   "metadata": {},
   "outputs": [
    {
     "name": "stdout",
     "output_type": "stream",
     "text": [
      "+----------+-------------+--------------------+------------+\n",
      "|LocationID|      Borough|                Zone|service_zone|\n",
      "+----------+-------------+--------------------+------------+\n",
      "|         1|          EWR|      Newark Airport|         EWR|\n",
      "|         2|       Queens|         Jamaica Bay|   Boro Zone|\n",
      "|         3|        Bronx|Allerton/Pelham G...|   Boro Zone|\n",
      "|         4|    Manhattan|       Alphabet City| Yellow Zone|\n",
      "|         5|Staten Island|       Arden Heights|   Boro Zone|\n",
      "|         6|Staten Island|Arrochar/Fort Wad...|   Boro Zone|\n",
      "|         7|       Queens|             Astoria|   Boro Zone|\n",
      "|         8|       Queens|        Astoria Park|   Boro Zone|\n",
      "|         9|       Queens|          Auburndale|   Boro Zone|\n",
      "|        10|       Queens|        Baisley Park|   Boro Zone|\n",
      "|        11|     Brooklyn|          Bath Beach|   Boro Zone|\n",
      "|        12|    Manhattan|        Battery Park| Yellow Zone|\n",
      "|        13|    Manhattan|   Battery Park City| Yellow Zone|\n",
      "|        14|     Brooklyn|           Bay Ridge|   Boro Zone|\n",
      "|        15|       Queens|Bay Terrace/Fort ...|   Boro Zone|\n",
      "|        16|       Queens|             Bayside|   Boro Zone|\n",
      "|        17|     Brooklyn|             Bedford|   Boro Zone|\n",
      "|        18|        Bronx|        Bedford Park|   Boro Zone|\n",
      "|        19|       Queens|           Bellerose|   Boro Zone|\n",
      "|        20|        Bronx|             Belmont|   Boro Zone|\n",
      "+----------+-------------+--------------------+------------+\n",
      "only showing top 20 rows\n",
      "\n"
     ]
    }
   ],
   "source": [
    "df_pu_zones = spark.read.parquet('zones/')\n",
    "\n",
    "df_pu_zones = df_pu_zones \\\n",
    "    .withColumnRenamed('Borough', 'pickup_borough') \\\n",
    "    .withColumnRenamed('Zone', 'pickup_zone')"
   ]
  },
  {
   "cell_type": "code",
   "execution_count": 56,
   "id": "afe3db14",
   "metadata": {},
   "outputs": [],
   "source": [
    "df_do_zones = spark.read.parquet('zones/')\n",
    "\n",
    "df_do_zones = df_do_zones \\\n",
    "    .withColumnRenamed('Borough', 'dropoff_borough') \\\n",
    "    .withColumnRenamed('Zone', 'dropoff_zone')"
   ]
  },
  {
   "cell_type": "code",
   "execution_count": 65,
   "id": "ad4e872b",
   "metadata": {},
   "outputs": [],
   "source": [
    "df_join_zones = df \\\n",
    "    .join(df_pu_zones, df.PULocationID == df_pu_zones.LocationID, how='outer') \\\n",
    "    .join(df_do_zones, df.DOLocationID == df_do_zones.LocationID, how='outer')"
   ]
  },
  {
   "cell_type": "code",
   "execution_count": 66,
   "id": "473343ef",
   "metadata": {},
   "outputs": [],
   "source": [
    "df_join_zones.registerTempTable('data_zones')"
   ]
  },
  {
   "cell_type": "code",
   "execution_count": 67,
   "id": "9b4f33f5",
   "metadata": {},
   "outputs": [
    {
     "name": "stderr",
     "output_type": "stream",
     "text": [
      "[Stage 42:============================================>         (164 + 3) / 200]\r"
     ]
    },
    {
     "name": "stdout",
     "output_type": "stream",
     "text": [
      "+--------------+--------------------+---------------+--------------------+-----+\n",
      "|pickup_borough|         pickup_zone|dropoff_borough|        dropoff_zone|  cnt|\n",
      "+--------------+--------------------+---------------+--------------------+-----+\n",
      "|      Brooklyn|       East New York|       Brooklyn|       East New York|45041|\n",
      "|      Brooklyn|        Borough Park|       Brooklyn|        Borough Park|37329|\n",
      "|      Brooklyn|            Canarsie|       Brooklyn|            Canarsie|28026|\n",
      "|      Brooklyn| Crown Heights North|       Brooklyn| Crown Heights North|25976|\n",
      "|      Brooklyn|           Bay Ridge|       Brooklyn|           Bay Ridge|17934|\n",
      "|        Queens|     Jackson Heights|         Queens|     Jackson Heights|14688|\n",
      "|        Queens|             Astoria|         Queens|             Astoria|14688|\n",
      "|     Manhattan|Central Harlem North|      Manhattan|Central Harlem North|14481|\n",
      "|      Brooklyn|      Bushwick South|       Brooklyn|      Bushwick South|14424|\n",
      "|      Brooklyn|Flatbush/Ditmas Park|       Brooklyn|Flatbush/Ditmas Park|13976|\n",
      "|        Queens|    South Ozone Park|         Queens|    South Ozone Park|13716|\n",
      "|      Brooklyn|         Brownsville|       Brooklyn|         Brownsville|12829|\n",
      "|        Queens|         JFK Airport|        Unknown|                  NA|12542|\n",
      "|      Brooklyn|Prospect-Lefferts...|       Brooklyn| Crown Heights North|11814|\n",
      "|        Queens|        Forest Hills|         Queens|        Forest Hills|11548|\n",
      "|      Brooklyn|      Bushwick North|       Brooklyn|      Bushwick South|11491|\n",
      "|      Brooklyn|      Bushwick South|       Brooklyn|      Bushwick North|11487|\n",
      "|      Brooklyn| Crown Heights North|       Brooklyn|Prospect-Lefferts...|11462|\n",
      "|      Brooklyn| Crown Heights North|       Brooklyn|  Stuyvesant Heights|11342|\n",
      "|      Brooklyn|Prospect-Lefferts...|       Brooklyn|Prospect-Lefferts...|11308|\n",
      "+--------------+--------------------+---------------+--------------------+-----+\n",
      "only showing top 20 rows\n",
      "\n"
     ]
    },
    {
     "name": "stderr",
     "output_type": "stream",
     "text": [
      "\r",
      "[Stage 42:=================================================>    (182 + 2) / 200]\r",
      "\r",
      "                                                                                \r"
     ]
    }
   ],
   "source": [
    "#Q6\n",
    "spark.sql(\"\"\"\n",
    "SELECT \n",
    "    pickup_borough\n",
    "    , pickup_zone\n",
    "    , dropoff_borough\n",
    "    , dropoff_zone\n",
    "    , COUNT(*) AS cnt\n",
    "  FROM data_zones\n",
    " GROUP BY \n",
    "     pickup_borough\n",
    "    , pickup_zone\n",
    "    , dropoff_borough\n",
    "    , dropoff_zone\n",
    " ORDER BY \n",
    "     COUNT(*) DESC;\n",
    "\"\"\").show()"
   ]
  },
  {
   "cell_type": "code",
   "execution_count": null,
   "id": "a3677ab9",
   "metadata": {},
   "outputs": [],
   "source": [
    "spark.stop()"
   ]
  }
 ],
 "metadata": {
  "kernelspec": {
   "display_name": "Python 3 (ipykernel)",
   "language": "python",
   "name": "python3"
  },
  "language_info": {
   "codemirror_mode": {
    "name": "ipython",
    "version": 3
   },
   "file_extension": ".py",
   "mimetype": "text/x-python",
   "name": "python",
   "nbconvert_exporter": "python",
   "pygments_lexer": "ipython3",
   "version": "3.8.10"
  }
 },
 "nbformat": 4,
 "nbformat_minor": 5
}
